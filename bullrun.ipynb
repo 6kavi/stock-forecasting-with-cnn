{
  "cells": [
    {
      "cell_type": "markdown",
      "metadata": {
        "id": "view-in-github",
        "colab_type": "text"
      },
      "source": [
        "<a href=\"https://colab.research.google.com/github/6kavi/stock-forecasting-with-cnn/blob/main/bullrun.ipynb\" target=\"_parent\"><img src=\"https://colab.research.google.com/assets/colab-badge.svg\" alt=\"Open In Colab\"/></a>"
      ]
    },
    {
      "cell_type": "code",
      "execution_count": null,
      "metadata": {
        "id": "IY06TjGIjEs7"
      },
      "outputs": [],
      "source": []
    },
    {
      "cell_type": "code",
      "execution_count": null,
      "metadata": {
        "id": "yauoBdZAPu6B",
        "colab": {
          "base_uri": "https://localhost:8080/"
        },
        "outputId": "f1537ad3-9932-4a27-88b9-c2b9bd2dae8e"
      },
      "outputs": [
        {
          "output_type": "stream",
          "name": "stdout",
          "text": [
            "Mounted at /content/drive\n"
          ]
        }
      ],
      "source": [
        "from google.colab import drive\n",
        "\n",
        "\n",
        "import pandas as pd\n",
        "import matplotlib.pyplot as plt\n",
        "import numpy as np\n",
        "from sklearn.preprocessing import MinMaxScaler\n",
        "from sklearn.model_selection import train_test_split,GridSearchCV,KFold\n",
        "\n",
        "from keras.preprocessing.sequence import pad_sequences\n",
        "from keras.models import Sequential,load_model\n",
        "from keras.layers import Dense,Dropout,Reshape,Flatten,LeakyReLU,BatchNormalization,Conv1D\n",
        "from keras.callbacks import ModelCheckpoint, EarlyStopping\n",
        "from tensorflow.keras.initializers import HeNormal\n",
        "from keras.saving import register_keras_serializable\n",
        "import keras\n",
        "\n",
        "from keras.optimizers import Adam\n",
        "from tensorflow.keras import backend as K\n",
        "from keras.regularizers import l2,l1\n",
        "import tensorflow as tf\n",
        "drive.mount('/content/drive')\n"
      ]
    },
    {
      "cell_type": "code",
      "execution_count": null,
      "metadata": {
        "id": "LNmWoTD0P7cx"
      },
      "outputs": [],
      "source": [
        "import os\n",
        "paths = []\n",
        "def print_file_paths(folder_path):\n",
        "\n",
        "    for root, dirs, files in os.walk(folder_path):\n",
        "        for file_name in files:\n",
        "\n",
        "            file_path = os.path.join(root, file_name)\n",
        "            paths.append(file_path)\n",
        "\n",
        "folder_path = '/content/drive/MyDrive/NIFTY 50'\n",
        "print_file_paths(folder_path)"
      ]
    },
    {
      "cell_type": "code",
      "execution_count": null,
      "metadata": {
        "id": "hjH7UqkArBwU"
      },
      "outputs": [],
      "source": [
        "minmax = MinMaxScaler(feature_range=(0,1))\n",
        "\n",
        "\n"
      ]
    },
    {
      "cell_type": "code",
      "execution_count": null,
      "metadata": {
        "id": "Qo_Qui3AQCUH",
        "colab": {
          "base_uri": "https://localhost:8080/"
        },
        "outputId": "510a8e0a-4e6c-4337-956a-554da106c6bd"
      },
      "outputs": [
        {
          "output_type": "stream",
          "name": "stdout",
          "text": [
            "(5863,)\n",
            "(5863, 1)\n",
            "(5215,)\n",
            "(5215, 1)\n",
            "(5212,)\n",
            "(5212, 1)\n",
            "(5212,)\n",
            "(5212, 1)\n",
            "(5214,)\n",
            "(5214, 1)\n",
            "(5863,)\n",
            "(5863, 1)\n",
            "(3835,)\n",
            "(3835, 1)\n",
            "(5181,)\n",
            "(5181, 1)\n",
            "(5212,)\n",
            "(5212, 1)\n",
            "(5212,)\n",
            "(5212, 1)\n",
            "(5865,)\n",
            "(5865, 1)\n",
            "(3114,)\n",
            "(3114, 1)\n",
            "(5866,)\n",
            "(5866, 1)\n",
            "(1410,)\n",
            "(1410, 1)\n",
            "(3905,)\n",
            "(3905, 1)\n",
            "(5182,)\n",
            "(5182, 1)\n",
            "(5862,)\n",
            "(5862, 1)\n",
            "(5866,)\n",
            "(5866, 1)\n",
            "(5183,)\n",
            "(5183, 1)\n",
            "(5863,)\n",
            "(5863, 1)\n",
            "(3905,)\n",
            "(3905, 1)\n",
            "(5186,)\n",
            "(5186, 1)\n",
            "(3857,)\n",
            "(3857, 1)\n",
            "(5866,)\n",
            "(5866, 1)\n",
            "(5866,)\n",
            "(5866, 1)\n",
            "(5866,)\n",
            "(5866, 1)\n",
            "(5863,)\n",
            "(5863, 1)\n",
            "(5863,)\n",
            "(5863, 1)\n",
            "(1378,)\n",
            "(1378, 1)\n",
            "(5212,)\n",
            "(5212, 1)\n",
            "(5866,)\n",
            "(5866, 1)\n",
            "(5864,)\n",
            "(5864, 1)\n",
            "(5212,)\n",
            "(5212, 1)\n",
            "(3907,)\n",
            "(3907, 1)\n",
            "(5212,)\n",
            "(5212, 1)\n",
            "(5185,)\n",
            "(5185, 1)\n",
            "(5866,)\n",
            "(5866, 1)\n",
            "(5471,)\n",
            "(5471, 1)\n",
            "(5866,)\n",
            "(5866, 1)\n",
            "(3873,)\n",
            "(3873, 1)\n",
            "(4992,)\n",
            "(4992, 1)\n",
            "(5863,)\n",
            "(5863, 1)\n",
            "(4601,)\n",
            "(4601, 1)\n",
            "(5863,)\n",
            "(5863, 1)\n",
            "(4948,)\n",
            "(4948, 1)\n",
            "(5866,)\n",
            "(5866, 1)\n",
            "(5033,)\n",
            "(5033, 1)\n",
            "(237545, 10, 1)\n",
            "(237545, 10, 1)\n"
          ]
        }
      ],
      "source": [
        "train_x = []\n",
        "train_y = []\n",
        "s = 10\n",
        "\n",
        "\n",
        "\n",
        "for x in paths:\n",
        "    df = pd.read_csv(x)\n",
        "\n",
        "    df.dropna(inplace=True)\n",
        "\n",
        "    df.drop_duplicates(inplace=True)\n",
        "\n",
        "    close_price = df['Close']\n",
        "\n",
        "\n",
        "    #print(np.shape(close_price))\n",
        "\n",
        "\n",
        "\n",
        "\n",
        "\n",
        "    close_price_2d = np.array(close_price).reshape(-1, 1)\n",
        "    scaled_price = minmax.fit_transform(close_price_2d)\n",
        "    #print(np.shape(scaled_price))\n",
        "\n",
        "\n",
        "\n",
        "    for i in range(len(scaled_price)-s-10):\n",
        "\n",
        "        train_x.append(scaled_price[i: s+i ])\n",
        "\n",
        "\n",
        "\n",
        "        train_y.append(scaled_price[i + s:i + s + 10])\n",
        "\n",
        "\n",
        "\n",
        "\n",
        "\n",
        "\n",
        "\n",
        "\n",
        "train_x = np.array(train_x)\n",
        "train_y = np.array(train_y)\n",
        "\n",
        "\n",
        "train_x = np.reshape(train_x, (train_x.shape[0], train_x.shape[1], 1))\n",
        "train_y = np.reshape(train_y, (train_y.shape[0], train_y.shape[1], 1))\n",
        "\n",
        "#print(np.shape(train_y))\n",
        "#print(np.shape(train_x))"
      ]
    },
    {
      "cell_type": "code",
      "execution_count": null,
      "metadata": {
        "id": "y-oNm5HOQGrX",
        "colab": {
          "base_uri": "https://localhost:8080/",
          "height": 499
        },
        "outputId": "5bab86eb-31ff-4f53-8a82-4ff52334b12c"
      },
      "outputs": [
        {
          "output_type": "stream",
          "name": "stdout",
          "text": [
            "No null values found.\n",
            "Number of null values in train_x: 0\n",
            "Number of null values in train_y: 0\n"
          ]
        },
        {
          "output_type": "execute_result",
          "data": {
            "text/plain": [
              "<matplotlib.collections.PathCollection at 0x7f6c00fa5bd0>"
            ]
          },
          "metadata": {},
          "execution_count": 5
        },
        {
          "output_type": "display_data",
          "data": {
            "text/plain": [
              "<Figure size 640x480 with 1 Axes>"
            ],
            "image/png": "[encoded data removed]"
          },
          "metadata": {}
        }
      ],
      "source": [
        "if np.isnan(train_x).any() or np.isnan(train_y).any():\n",
        "    print(\"Null values are present.\")\n",
        "else:\n",
        "    print(\"No null values found.\")\n",
        "\n",
        "null_train_x = np.sum(np.isnan(train_x))\n",
        "null_train_y = np.sum(np.isnan(train_y))\n",
        "\n",
        "print(\"no.of null values in train_x:\",null_train_x)\n",
        "print(\"no.of null values in train_y:\",null_train_y)\n",
        "plt.scatter(train_x,train_y)"
      ]
    },
    {
      "cell_type": "code",
      "execution_count": null,
      "metadata": {
        "id": "g0eVc4b2QMG_",
        "colab": {
          "base_uri": "https://localhost:8080/"
        },
        "outputId": "6e19f129-aefa-4f93-8c5c-fa6ab9be1f1c"
      },
      "outputs": [
        {
          "output_type": "stream",
          "name": "stdout",
          "text": [
            "xtrain,ytrain: (190036, 10, 1) xtest,ytest: (47509, 10, 1)\n"
          ]
        }
      ],
      "source": [
        "x_train,x_test,y_train,y_test = train_test_split(train_x,train_y, test_size=0.2, random_state=42)\n",
        "print('xtrain,ytrain:',x_train.shape,'xtest,ytest:',y_test.shape)"
      ]
    },
    {
      "cell_type": "code",
      "execution_count": null,
      "metadata": {
        "id": "rIC8QZaibUNL"
      },
      "outputs": [],
      "source": []
    },
    {
      "cell_type": "code",
      "execution_count": null,
      "metadata": {
        "id": "9CeCg1owQOj3"
      },
      "outputs": [],
      "source": []
    },
    {
      "cell_type": "code",
      "execution_count": null,
      "metadata": {
        "id": "eTgtGRVjQWm2",
        "colab": {
          "base_uri": "https://localhost:8080/"
        },
        "outputId": "aa947296-5cff-464d-8d24-396e6c045d81"
      },
      "outputs": [
        {
          "output_type": "stream",
          "name": "stdout",
          "text": [
            "Model: \"sequential\"\n",
            "_________________________________________________________________\n",
            " Layer (type)                Output Shape              Param #   \n",
            "=================================================================\n",
            " conv1d (Conv1D)             (None, 10, 32)            64        \n",
            "                                                                 \n",
            " batch_normalization (Batch  (None, 10, 32)            128       \n",
            " Normalization)                                                  \n",
            "                                                                 \n",
            " conv1d_1 (Conv1D)           (None, 10, 64)            2112      \n",
            "                                                                 \n",
            " batch_normalization_1 (Bat  (None, 10, 64)            256       \n",
            " chNormalization)                                                \n",
            "                                                                 \n",
            " conv1d_2 (Conv1D)           (None, 10, 128)           8320      \n",
            "                                                                 \n",
            " batch_normalization_2 (Bat  (None, 10, 128)           512       \n",
            " chNormalization)                                                \n",
            "                                                                 \n",
            " conv1d_3 (Conv1D)           (None, 10, 256)           33024     \n",
            "                                                                 \n",
            " batch_normalization_3 (Bat  (None, 10, 256)           1024      \n",
            " chNormalization)                                                \n",
            "                                                                 \n",
            " conv1d_4 (Conv1D)           (None, 10, 128)           32896     \n",
            "                                                                 \n",
            " batch_normalization_4 (Bat  (None, 10, 128)           512       \n",
            " chNormalization)                                                \n",
            "                                                                 \n",
            " conv1d_5 (Conv1D)           (None, 10, 64)            8256      \n",
            "                                                                 \n",
            " batch_normalization_5 (Bat  (None, 10, 64)            256       \n",
            " chNormalization)                                                \n",
            "                                                                 \n",
            " conv1d_6 (Conv1D)           (None, 10, 32)            2080      \n",
            "                                                                 \n",
            " batch_normalization_6 (Bat  (None, 10, 32)            128       \n",
            " chNormalization)                                                \n",
            "                                                                 \n",
            " conv1d_7 (Conv1D)           (None, 10, 1)             33        \n",
            "                                                                 \n",
            " dense (Dense)               (None, 10, 1)             2         \n",
            "                                                                 \n",
            "=================================================================\n",
            "Total params: 89603 (350.01 KB)\n",
            "Trainable params: 88195 (344.51 KB)\n",
            "Non-trainable params: 1408 (5.50 KB)\n",
            "_________________________________________________________________\n"
          ]
        }
      ],
      "source": [
        "\n",
        "model = Sequential()\n",
        "\n",
        "\n",
        "model.add(Conv1D(filters=32, kernel_size=1, activation=LeakyReLU(alpha=0.1),input_shape=(10, 1)))\n",
        "model.add(BatchNormalization())\n",
        "model.add(Conv1D(filters=64, kernel_size=1,activation=LeakyReLU(alpha=0.1)))\n",
        "model.add(BatchNormalization())\n",
        "model.add(Conv1D(filters=128, kernel_size=1,activation=LeakyReLU(alpha=0.1)))\n",
        "model.add(BatchNormalization())\n",
        "model.add(Conv1D(filters=256, kernel_size=1,activation=LeakyReLU(alpha=0.1)))\n",
        "model.add(BatchNormalization())\n",
        "model.add(Conv1D(filters=128, kernel_size=1,activation=LeakyReLU(alpha=0.1)))\n",
        "model.add(BatchNormalization())\n",
        "model.add(Conv1D(filters=64, kernel_size=1,activation=LeakyReLU(alpha=0.1)))\n",
        "model.add(BatchNormalization())\n",
        "model.add(Conv1D(filters=32, kernel_size=1,activation=LeakyReLU(alpha=0.1)))\n",
        "model.add(BatchNormalization())\n",
        "model.add(Conv1D(filters=1, kernel_size=1,activation=LeakyReLU(alpha=0.1)))\n",
        "model.add(Dense(1, activation='tanh', kernel_regularizer=l2(0.1), kernel_initializer=HeNormal()))\n",
        "\n",
        "\n",
        "\n",
        "model.summary()\n"
      ]
    },
    {
      "cell_type": "markdown",
      "metadata": {
        "id": "-nBiTIQys0KD"
      },
      "source": []
    },
    {
      "cell_type": "code",
      "execution_count": null,
      "metadata": {
        "id": "XrS-oX5bQZeW"
      },
      "outputs": [],
      "source": [
        "checkpoint_filepath = '/content/drive/MyDrive/bullrunstart_checkpointA7z0.h5'\n",
        "\n",
        "checkpoint_callback = ModelCheckpoint(\n",
        "    filepath=checkpoint_filepath,\n",
        "    save_weights_only=True\n",
        "\n",
        ")\n",
        "\n",
        "try:\n",
        "    model = load_model('/content/drive/MyDrive/bullrunstart_modelA7z0.h5')\n",
        "    model.load_weights(checkpoint_filepath)\n",
        "except Exception as e:\n",
        "    print(\"Error loading model:\", e)\n",
        "    exit()\n",
        "early_stopping = EarlyStopping(monitor='val_loss', patience=5, restore_best_weights=True)\n",
        "loss_function = keras.losses.MeanAbsoluteError()\n",
        "model.compile(optimizer=Adam(0.00001), loss=loss_function,metrics=['mse'])\n"
      ]
    },
    {
      "cell_type": "code",
      "execution_count": null,
      "metadata": {
        "id": "L9dpjJ0gQiYt",
        "colab": {
          "base_uri": "https://localhost:8080/"
        },
        "outputId": "b81b6612-732e-487c-a951-4cb827f42184"
      },
      "outputs": [
        {
          "output_type": "stream",
          "name": "stdout",
          "text": [
            "Epoch 1/100\n",
            "1056/1056 [==============================] - 16s 15ms/step - loss: 0.0235 - mse: 9.9308e-04 - val_loss: 0.0240 - val_mse: 7.9971e-04\n",
            "Epoch 2/100\n",
            "1056/1056 [==============================] - 15s 14ms/step - loss: 0.0231 - mse: 9.5892e-04 - val_loss: 0.0284 - val_mse: 9.3662e-04\n",
            "Epoch 3/100\n",
            "1056/1056 [==============================] - 15s 14ms/step - loss: 0.0233 - mse: 9.8421e-04 - val_loss: 0.0273 - val_mse: 8.7682e-04\n",
            "Epoch 4/100\n",
            "1056/1056 [==============================] - 15s 14ms/step - loss: 0.0233 - mse: 9.8592e-04 - val_loss: 0.0280 - val_mse: 9.2067e-04\n",
            "Epoch 5/100\n",
            "1056/1056 [==============================] - 15s 14ms/step - loss: 0.0233 - mse: 9.9255e-04 - val_loss: 0.0302 - val_mse: 0.0010\n",
            "Epoch 6/100\n",
            "1056/1056 [==============================] - 15s 14ms/step - loss: 0.0232 - mse: 9.8058e-04 - val_loss: 0.0287 - val_mse: 9.5011e-04\n",
            "Epoch 7/100\n",
            "1056/1056 [==============================] - 14s 14ms/step - loss: 0.0232 - mse: 9.8374e-04 - val_loss: 0.0257 - val_mse: 8.3102e-04\n",
            "Epoch 8/100\n",
            "1056/1056 [==============================] - 15s 14ms/step - loss: 0.0233 - mse: 9.9175e-04 - val_loss: 0.0279 - val_mse: 9.1945e-04\n",
            "Epoch 9/100\n",
            "1056/1056 [==============================] - 15s 14ms/step - loss: 0.0231 - mse: 9.7590e-04 - val_loss: 0.0289 - val_mse: 9.6561e-04\n",
            "Epoch 10/100\n",
            "1056/1056 [==============================] - 15s 14ms/step - loss: 0.0230 - mse: 9.6226e-04 - val_loss: 0.0274 - val_mse: 9.0114e-04\n",
            "Epoch 11/100\n",
            "1056/1056 [==============================] - 15s 14ms/step - loss: 0.0231 - mse: 9.7836e-04 - val_loss: 0.0274 - val_mse: 8.9192e-04\n",
            "Epoch 12/100\n",
            "1056/1056 [==============================] - 15s 14ms/step - loss: 0.0231 - mse: 9.7652e-04 - val_loss: 0.0239 - val_mse: 7.8179e-04\n",
            "Epoch 13/100\n",
            "1056/1056 [==============================] - 14s 14ms/step - loss: 0.0231 - mse: 9.7754e-04 - val_loss: 0.0272 - val_mse: 8.8639e-04\n",
            "Epoch 14/100\n",
            "1056/1056 [==============================] - 14s 14ms/step - loss: 0.0229 - mse: 9.6853e-04 - val_loss: 0.0257 - val_mse: 8.3790e-04\n",
            "Epoch 15/100\n",
            "1056/1056 [==============================] - 14s 14ms/step - loss: 0.0230 - mse: 9.7187e-04 - val_loss: 0.0259 - val_mse: 8.4365e-04\n",
            "Epoch 16/100\n",
            "1056/1056 [==============================] - 14s 14ms/step - loss: 0.0229 - mse: 9.6628e-04 - val_loss: 0.0255 - val_mse: 8.2072e-04\n",
            "Epoch 17/100\n",
            "1056/1056 [==============================] - 15s 14ms/step - loss: 0.0228 - mse: 9.6160e-04 - val_loss: 0.0254 - val_mse: 8.2264e-04\n",
            "Epoch 18/100\n",
            "1056/1056 [==============================] - 15s 14ms/step - loss: 0.0230 - mse: 9.7227e-04 - val_loss: 0.0268 - val_mse: 8.6943e-04\n",
            "Epoch 19/100\n",
            "1056/1056 [==============================] - 15s 14ms/step - loss: 0.0228 - mse: 9.6240e-04 - val_loss: 0.0263 - val_mse: 8.6090e-04\n",
            "Epoch 20/100\n",
            "1056/1056 [==============================] - 15s 14ms/step - loss: 0.0228 - mse: 9.7232e-04 - val_loss: 0.0270 - val_mse: 8.6549e-04\n",
            "Epoch 21/100\n",
            "1056/1056 [==============================] - 15s 14ms/step - loss: 0.0229 - mse: 9.7726e-04 - val_loss: 0.0266 - val_mse: 8.6790e-04\n",
            "Epoch 22/100\n",
            "1056/1056 [==============================] - 15s 14ms/step - loss: 0.0228 - mse: 9.6978e-04 - val_loss: 0.0260 - val_mse: 8.6159e-04\n",
            "Epoch 23/100\n",
            "1056/1056 [==============================] - 15s 14ms/step - loss: 0.0228 - mse: 9.7863e-04 - val_loss: 0.0274 - val_mse: 9.0368e-04\n",
            "Epoch 24/100\n",
            "1056/1056 [==============================] - 15s 14ms/step - loss: 0.0229 - mse: 9.8652e-04 - val_loss: 0.0297 - val_mse: 0.0010\n",
            "Epoch 25/100\n",
            "1056/1056 [==============================] - 15s 14ms/step - loss: 0.0227 - mse: 9.6213e-04 - val_loss: 0.0278 - val_mse: 9.1828e-04\n",
            "Epoch 26/100\n",
            "1056/1056 [==============================] - 15s 14ms/step - loss: 0.0227 - mse: 9.7098e-04 - val_loss: 0.0282 - val_mse: 9.4481e-04\n",
            "Epoch 27/100\n",
            "1056/1056 [==============================] - 15s 14ms/step - loss: 0.0228 - mse: 9.7695e-04 - val_loss: 0.0282 - val_mse: 9.3801e-04\n",
            "Epoch 28/100\n",
            "1056/1056 [==============================] - 14s 14ms/step - loss: 0.0226 - mse: 9.6782e-04 - val_loss: 0.0286 - val_mse: 9.4353e-04\n",
            "Epoch 29/100\n",
            "1056/1056 [==============================] - 15s 14ms/step - loss: 0.0226 - mse: 9.6357e-04 - val_loss: 0.0254 - val_mse: 8.1747e-04\n",
            "Epoch 30/100\n",
            "1056/1056 [==============================] - 15s 14ms/step - loss: 0.0229 - mse: 0.0010 - val_loss: 0.0285 - val_mse: 9.3793e-04\n",
            "Epoch 31/100\n",
            "1056/1056 [==============================] - 15s 14ms/step - loss: 0.0225 - mse: 9.5232e-04 - val_loss: 0.0247 - val_mse: 8.2574e-04\n",
            "Epoch 32/100\n",
            "1056/1056 [==============================] - 15s 14ms/step - loss: 0.0225 - mse: 9.6090e-04 - val_loss: 0.0263 - val_mse: 8.6379e-04\n",
            "Epoch 33/100\n",
            "1055/1056 [============================>.] - ETA: 0s - loss: 0.0225 - mse: 9.5550e-04"
          ]
        }
      ],
      "source": [
        "history=model.fit(x_train,y_train, batch_size=180, epochs=100,validation_data=(x_test, y_test),callbacks=[checkpoint_callback])\n",
        "model.save(\"/content/drive/MyDrive/bullrunstart_modelA7z0.h5\")\n",
        "test_loss, test_mae = model.evaluate(x_test, y_test)\n",
        "print(\"Test Loss:\", test_loss)\n",
        "print(\"Test MAE:\", test_mae)\n",
        "\n",
        "plt.plot(history.history[\"loss\"], label=\"loss\")\n",
        "plt.plot(history.history[\"val_loss\"], label=\"val_loss\")\n",
        "plt.plot(history.history[\"mse\"], label=\"mse\")\n",
        "plt.plot(history.history[\"val_mse\"], label=\"val_mse\")\n",
        "\n",
        "\n",
        "plt.legend()\n",
        "plt.show()\n"
      ]
    },
    {
      "cell_type": "code",
      "execution_count": null,
      "metadata": {
        "id": "vR6CjbCkWvUF",
        "colab": {
          "base_uri": "https://localhost:8080/",
          "height": 795
        },
        "outputId": "1a9e1b0c-a0d3-406b-db92-64a39dd6c051"
      },
      "outputs": [
        {
          "output_type": "stream",
          "name": "stdout",
          "text": [
            "(1, 10)\n",
            "1/1 [==============================] - 1s 630ms/step\n",
            "predicted: [[0.7514275 ]\n",
            " [0.73139584]\n",
            " [0.73433244]\n",
            " [0.73284763]\n",
            " [0.75133467]\n",
            " [0.7489563 ]\n",
            " [0.74683887]\n",
            " [0.7561702 ]\n",
            " [0.75482255]\n",
            " [0.74676   ]] actual: [[0.74939122]\n",
            " [0.73645065]\n",
            " [0.72666877]\n",
            " [0.72157406]\n",
            " [0.73217108]\n",
            " [0.74684387]\n",
            " [0.74974783]\n",
            " [0.74658913]\n",
            " [0.74465312]\n",
            " [0.74022075]]\n"
          ]
        },
        {
          "output_type": "display_data",
          "data": {
            "text/plain": [
              "<Figure size 640x480 with 1 Axes>"
            ],
            "image/png": "[encoded data removed]"
          },
          "metadata": {}
        }
      ],
      "source": [
        "\n",
        "reshaped_data = train_x[5000].reshape(1, -1)\n",
        "print(reshaped_data.shape)\n",
        "p = model.predict(reshaped_data)\n",
        "pt = minmax.inverse_transform(p.reshape((10,1)))\n",
        "a = minmax.inverse_transform(train_y[5000])\n",
        "\n",
        "print('predicted:',pt,'actual:',a)\n",
        "plt.plot(pt,color='red',ls='--')\n",
        "\n",
        "plt.plot(a)\n",
        "plt.legend(['predicted','actual'])\n",
        "plt.show()"
      ]
    },
    {
      "cell_type": "code",
      "execution_count": null,
      "metadata": {
        "id": "MrXnOJkXIG7d"
      },
      "outputs": [],
      "source": []
    }
  ],
  "metadata": {
    "accelerator": "GPU",
    "colab": {
      "gpuType": "T4",
      "provenance": [],
      "authorship_tag": "ABX9TyOo2HU6BCcV2PJtMwIbNu38",
      "include_colab_link": true
    },
    "kernelspec": {
      "display_name": "Python 3",
      "name": "python3"
    },
    "language_info": {
      "name": "python"
    }
  },
  "nbformat": 4,
  "nbformat_minor": 0
}